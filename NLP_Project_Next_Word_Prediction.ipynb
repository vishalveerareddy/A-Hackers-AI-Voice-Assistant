{
  "nbformat": 4,
  "nbformat_minor": 0,
  "metadata": {
    "colab": {
      "name": "NLP Project Next Word Prediction.ipynb",
      "provenance": [],
      "authorship_tag": "ABX9TyNMwylGardA1eVEEqT9pxsJ",
      "include_colab_link": true
    },
    "kernelspec": {
      "name": "python3",
      "display_name": "Python 3"
    },
    "language_info": {
      "name": "python"
    }
  },
  "cells": [
    {
      "cell_type": "markdown",
      "metadata": {
        "id": "view-in-github",
        "colab_type": "text"
      },
      "source": [
        "<a href=\"https://colab.research.google.com/github/vishalveerareddy/A-Hackers-AI-Voice-Assistant/blob/master/NLP_Project_Next_Word_Prediction.ipynb\" target=\"_parent\"><img src=\"https://colab.research.google.com/assets/colab-badge.svg\" alt=\"Open In Colab\"/></a>"
      ]
    },
    {
      "cell_type": "code",
      "metadata": {
        "id": "5T6MqDoxg0xS"
      },
      "source": [
        "import nltk as np"
      ],
      "execution_count": null,
      "outputs": []
    },
    {
      "cell_type": "code",
      "metadata": {
        "id": "aYBvVV2hZqQR"
      },
      "source": [
        "txt = '''THE Republic of Plato is the longest of his works with the exception of\n",
        "the Laws, and is certainly the greatest of them.  There are nearer\n",
        "approaches to modern metaphysics in the Philebus and in the Sophist;\n",
        "the Politicus or Statesman is more ideal; the form and institutions of\n",
        "the State are more clearly drawn out in the Laws; as works of art, the\n",
        "Symposium and the Protagoras are of higher excellence.  But no other\n",
        "Dialogue of Plato has the same largeness of view and the same\n",
        "perfection of style; no other shows an equal knowledge of the world, or\n",
        "contains more of those thoughts which are new as well as old, and not\n",
        "of one age only but of all.  Nowhere in Plato is there a deeper irony\n",
        "or a greater wealth of humor or imagery, or more dramatic power.  Nor\n",
        "in any other of his writings is the attempt made to interweave life and\n",
        "speculation, or to connect politics with philosophy.  The Republic is\n",
        "the centre around which the other Dialogues may be grouped; here\n",
        "philosophy reaches the highest point to which ancient thinkers ever\n",
        "attained.  Plato among the Greeks, like Bacon among the moderns, was\n",
        "the first who conceived a method of knowledge, although neither of them\n",
        "always distinguished the bare outline or form from the substance of\n",
        "truth; and both of them had to be content with an abstraction of\n",
        "science which was not yet realized.  He was the greatest metaphysical\n",
        "genius whom the world has seen; and in him, more than in any other\n",
        "ancient thinker, the germs of future knowledge are contained.  The\n",
        "sciences of logic and psychology, which have supplied so many\n",
        "instruments of thought to after-ages, are based upon the analyses of\n",
        "Socrates and Plato.  The principles of definition, the law of\n",
        "contradiction, the fallacy of arguing in a circle, the distinction\n",
        "between the essence and accidents of a thing or notion, between means\n",
        "and ends, between causes and conditions; also the division of the mind\n",
        "into the rational, concupiscent, and irascible elements, or of\n",
        "pleasures and desires into necessary and unnecessary--these and other\n",
        "great forms of thought are all of them to be found in the Republic, and\n",
        "were probably first invented by Plato.  The greatest of all logical\n",
        "truths, and the one of which writers on philosophy are most apt to lose\n",
        "sight, the difference between words and things, has been most\n",
        "strenuously insisted on by him, although he has not always avoided the\n",
        "confusion of them in his own writings.  But he does not bind up truth\n",
        "in logical formulae,--logic is still veiled in metaphysics; and the\n",
        "science which he imagines to \"contemplate all truth and all existence\"\n",
        "is very unlike the doctrine of the syllogism which Aristotle claims to\n",
        "have discovered.\n",
        "\n",
        "Neither must we forget that the Republic is but the third part of a\n",
        "still larger design which was to have included an ideal history of\n",
        "Athens, as well as a political and physical philosophy.  The fragment\n",
        "of the Critias has given birth to a world-famous fiction, second only\n",
        "in importance to the tale of Troy and the legend of Arthur; and is said\n",
        "as a fact to have inspired some of the early navigators of the\n",
        "sixteenth century.  This mythical tale, of which the subject was a\n",
        "history of the wars of the Athenians against the Island of Atlantis, is\n",
        "supposed to be founded upon an unfinished poem of Solon, to which it\n",
        "would have stood in the same relation as the writings of the\n",
        "logographers to the poems of Homer.  It would have told of a struggle\n",
        "for Liberty, intended to represent the conflict of Persia and Hellas.\n",
        "We may judge from the noble commencement of the Timaeus, from the\n",
        "fragment of the Critias itself, and from the third book of the Laws, in\n",
        "what manner Plato would have treated this high argument.  We can only\n",
        "guess why the great design was abandoned; perhaps because Plato became\n",
        "sensible of some incongruity in a fictitious history, or because he had\n",
        "lost his interest in it, or because advancing years forbade the\n",
        "completion of it; and we may please ourselves with the fancy that had\n",
        "this imaginary narrative ever been finished, we should have found Plato\n",
        "himself sympathizing with the struggle for Hellenic independence,\n",
        "singing a hymn of triumph over Marathon and Salamis, perhaps making the\n",
        "reflection of Herodotus where he contemplates the growth of the\n",
        "Athenian empire--\"How brave a thing is freedom of speech, which has\n",
        "made the Athenians so far exceed every other state of Hellas in\n",
        "greatness!\" or, more probably, attributing the victory to the ancient\n",
        "good order of Athens and to the favor of Apollo and Athene.\n",
        "\n",
        "Again, Plato may be regarded as the \"captain\" ('arhchegoz') or leader\n",
        "of a goodly band of followers; for in the Republic is to be found the\n",
        "original of Cicero's De Republica, of St. Augustine's City of God, of\n",
        "the Utopia of Sir Thomas More, and of the numerous other imaginary\n",
        "States which are framed upon the same model.  The extent to which\n",
        "Aristotle or the Aristotelian school were indebted to him in the\n",
        "Politics has been little recognized, and the recognition is the more\n",
        "necessary because it is not made by Aristotle himself.  The two\n",
        "philosophers had more in common than they were conscious of; and\n",
        "probably some elements of Plato remain still undetected in Aristotle.\n",
        "In English philosophy too, many affinities may be traced, not only in\n",
        "the works of the Cambridge Platonists, but in great original writers\n",
        "like Berkeley or Coleridge, to Plato and his ideas.  That there is a\n",
        "truth higher than experience, of which the mind bears witness to\n",
        "herself, is a conviction which in our own generation has been\n",
        "enthusiastically asserted, and is perhaps gaining ground.  Of the Greek\n",
        "authors who at the Renaissance brought a new life into the world Plato\n",
        "has had the greatest influence.  The Republic of Plato is also the\n",
        "first treatise upon education, of which the writings of Milton and\n",
        "Locke, Rousseau, Jean Paul, and Goethe are the legitimate descendants.\n",
        "Like Dante or Bunyan, he has a revelation of another life; like Bacon,\n",
        "he is profoundly impressed with the unity of knowledge; in the early\n",
        "Church he exercised a real influence on theology, and at the Revival of\n",
        "Literature on politics.  Even the fragments of his words when \"repeated\n",
        "at second-hand\" have in all ages ravished the hearts of men, who have\n",
        "seen reflected in them their own higher nature.  He is the father of\n",
        "idealism in philosophy, in politics, in literature.  And many of the\n",
        "latest conceptions of modern thinkers and statesmen, such as the unity\n",
        "of knowledge, the reign of law, and the equality of the sexes, have\n",
        "been anticipated in a dream by him.\n",
        "\n",
        "'''"
      ],
      "execution_count": 81,
      "outputs": []
    },
    {
      "cell_type": "markdown",
      "metadata": {
        "id": "TKYmCJulVgI0"
      },
      "source": [
        "#Markov Chain Character Level"
      ]
    },
    {
      "cell_type": "code",
      "metadata": {
        "id": "hXnXyYpsi6J9"
      },
      "source": [
        "order =3 #Trigrams\n",
        "ngrams ={}\n",
        "#Tokenisation\n",
        "for i in range(0,len(txt)-order):\n",
        "  grams = txt[i:i+order]\n",
        "  if grams in ngrams:\n",
        "    ngrams[grams].append(txt[i+order])\n",
        "  else:\n",
        "    ngrams[grams]=[]\n",
        "    ngrams[grams].append(txt[i+order])\n"
      ],
      "execution_count": 89,
      "outputs": []
    },
    {
      "cell_type": "code",
      "metadata": {
        "id": "fqvD0ew18vi3"
      },
      "source": [
        "charLen = 20"
      ],
      "execution_count": 84,
      "outputs": []
    },
    {
      "cell_type": "code",
      "metadata": {
        "id": "03F9mFEv5KQ8"
      },
      "source": [
        "import random"
      ],
      "execution_count": 85,
      "outputs": []
    },
    {
      "cell_type": "code",
      "metadata": {
        "id": "HEwbwyRSlYBd"
      },
      "source": [
        "def markovIt(index1):\n",
        "  curr = txt[index1:index1+order]\n",
        "  result = curr\n",
        "  for i in range(0,charLen):\n",
        "    poss= ngrams[curr]\n",
        "    next= random.choice(poss)\n",
        "    result = result+next\n",
        "    curr = result[len(result)-order:len(result)]\n",
        "  return result\n"
      ],
      "execution_count": 86,
      "outputs": []
    },
    {
      "cell_type": "code",
      "metadata": {
        "colab": {
          "base_uri": "https://localhost:8080/",
          "height": 35
        },
        "id": "kkiQ913n5k_6",
        "outputId": "4c0304f1-9df2-4189-e397-cad143c1df02"
      },
      "source": [
        "index = 4 #random.randint(0,len(txt)-order) #starting index for continuing the text\n",
        "markovIt(index)"
      ],
      "execution_count": 88,
      "outputs": [
        {
          "output_type": "execute_result",
          "data": {
            "application/vnd.google.colaboratory.intrinsic+json": {
              "type": "string"
            },
            "text/plain": [
              "'Republictory of\\nsciouss'"
            ]
          },
          "metadata": {},
          "execution_count": 88
        }
      ]
    },
    {
      "cell_type": "code",
      "metadata": {
        "id": "STn0dWkBi_a0"
      },
      "source": [
        "ngrams"
      ],
      "execution_count": null,
      "outputs": []
    },
    {
      "cell_type": "code",
      "metadata": {
        "id": "Ta6espgMjMIU"
      },
      "source": [
        ""
      ],
      "execution_count": null,
      "outputs": []
    }
  ]
}